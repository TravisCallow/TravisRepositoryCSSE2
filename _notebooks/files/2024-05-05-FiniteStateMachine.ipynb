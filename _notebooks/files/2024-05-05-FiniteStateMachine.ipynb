{
 "cells": [
  {
   "cell_type": "code",
   "execution_count": 28,
   "metadata": {},
   "outputs": [
    {
     "data": {
      "application/javascript": "class Water {\n    constructor() {\n        this.state = \"liquid\"; //Sets the state\n    }\n    changeState(temperature) { //Function to set a temperature and it will use if statements to determine if the water will be a liquid, gas, or solid.\n        switch (this.state) {\n            case \"liquid\":\n                if (temperature > 32 && temperature <212) { //Liquid\n                    console.log(\"Temperature is rising above 32°F\");\n                    this.state = \"liquid\";\n                }\n                break;\n            case \"solid\":\n                if (temperature <= 32) { //Solid\n                    console.log(\"Temperature is dropping below 33°F\");\n                    this.state = \"solid\";\n                } \n                break;\n            case \"gas\":\n                if (temperature >= 212) { //Gas\n                    console.log(\"Temperature is rising to 212°F\");\n                    this.state = \"gas\";\n                }\n                break;\n        }\n    }\n}\n\nconst water = new Water(); \n\nconsole.log(\"Previous state:\", water.state);  //Output: Previous state: liquid\nwater.changeState(80); //Output: Previous state: Temperature is rising above 32°F\nconsole.log(\"Current state:\", water.state); //Output: Current state: liquid\nwater.changeState(212); //Output: Previous state: Temperature is dropping below 33°F\nconsole.log(\"Current state:\", water.state); //Output: Current state: gas\nwater.changeState(10); //Output: Previous state: Temperature is rising to 212°F\nconsole.log(\"Current state:\", water.state); //Output: Current state: solid\n",
      "text/plain": [
       "<IPython.core.display.Javascript object>"
      ]
     },
     "metadata": {},
     "output_type": "display_data"
    }
   ],
   "source": [
    "%%javascript\n",
    "class Water {\n",
    "    constructor() {\n",
    "        this.state = \"liquid\"; //Sets the state\n",
    "    }\n",
    "    changeState(temperature) { //Function to set a temperature and it will use if statements to determine if the water will be a liquid, gas, or solid.\n",
    "        switch (this.state) {\n",
    "            case \"liquid\":\n",
    "                if (temperature > 32 && temperature <212) { //Liquid\n",
    "                    console.log(\"Temperature is rising above 32°F\");\n",
    "                    this.state = \"liquid\";\n",
    "                }\n",
    "                break;\n",
    "            case \"solid\":\n",
    "                if (temperature <= 32) { //Solid\n",
    "                    console.log(\"Temperature is dropping below 33°F\");\n",
    "                    this.state = \"solid\";\n",
    "                } \n",
    "                break;\n",
    "            case \"gas\":\n",
    "                if (temperature >= 212) { //Gas\n",
    "                    console.log(\"Temperature is rising to 212°F\");\n",
    "                    this.state = \"gas\";\n",
    "                }\n",
    "                break;\n",
    "        }\n",
    "    }\n",
    "}\n",
    "\n",
    "const water = new Water(); \n",
    "\n",
    "console.log(\"Previous state:\", water.state);  //Output: Previous state: liquid\n",
    "water.changeState(80); //Output: Previous state: Temperature is rising above 32°F\n",
    "console.log(\"Current state:\", water.state); //Output: Current state: liquid\n",
    "water.changeState(212); //Output: Previous state: Temperature is dropping below 33°F\n",
    "console.log(\"Current state:\", water.state); //Output: Current state: gas\n",
    "water.changeState(10); //Output: Previous state: Temperature is rising to 212°F\n",
    "console.log(\"Current state:\", water.state); //Output: Current state: solid"
   ]
  }
 ],
 "metadata": {
  "kernelspec": {
   "display_name": "Python 3",
   "language": "python",
   "name": "python3"
  },
  "language_info": {
   "codemirror_mode": {
    "name": "ipython",
    "version": 3
   },
   "file_extension": ".py",
   "mimetype": "text/x-python",
   "name": "python",
   "nbconvert_exporter": "python",
   "pygments_lexer": "ipython3",
   "version": "3.10.12"
  }
 },
 "nbformat": 4,
 "nbformat_minor": 2
}
